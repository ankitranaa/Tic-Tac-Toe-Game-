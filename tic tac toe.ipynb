{
 "cells": [
  {
   "cell_type": "code",
   "execution_count": 1,
   "metadata": {},
   "outputs": [],
   "source": [
    "from IPython.display import clear_output\n",
    "\n",
    "\n",
    "def display_board(board):\n",
    "    clear_output()\n",
    "    print(board[7]+\" | \"+board[8]+\"|\"+board[9])\n",
    "    print(\"--|--|--\")\n",
    "    print(board[4]+\" | \"+board[5]+\"|\"+board[6])\n",
    "    print(\"--|--|--\")\n",
    "    print(board[1]+\" | \"+board[2]+\"|\"+board[3])"
   ]
  },
  {
   "cell_type": "code",
   "execution_count": 2,
   "metadata": {},
   "outputs": [
    {
     "name": "stdout",
     "output_type": "stream",
     "text": [
      "X | O|X\n",
      "--|--|--\n",
      "O | X|O\n",
      "--|--|--\n",
      "X | O|X\n"
     ]
    }
   ],
   "source": [
    "test_board=(\"#XOXOXOXOX\")*10\n",
    "# this is just an example\n",
    "display_board(test_board)"
   ]
  },
  {
   "cell_type": "markdown",
   "metadata": {},
   "source": [
    "we can also write test_board=(\"#\",\"X\",\"O\",\"X\",\"O\",\"X\",\"O\",\"X\",\"O\",\"X\") this will show them in place of spaces in board. its \" \"*10 and not 9 because one is for #"
   ]
  },
  {
   "cell_type": "code",
   "execution_count": 3,
   "metadata": {},
   "outputs": [],
   "source": [
    "def player_input():\n",
    "    marker=\"\"\n",
    "    #keep asking player 1 for X or O till he enters X or O. if he keeps on entering wrong input it will keep on asking\n",
    "    while marker!=\"X\" and marker!=\"O\":\n",
    "        marker=input(\"Player 1 enter X or O \").upper()\n",
    "        \n",
    "    #assign player 2 the opposite marker\n",
    "  \n",
    "    if marker==\"X\":\n",
    "        return(\"X\",\"O\")\n",
    "    else:\n",
    "        return(\"O\",\"X\")"
   ]
  },
  {
   "cell_type": "code",
   "execution_count": null,
   "metadata": {},
   "outputs": [],
   "source": [
    "player_input()"
   ]
  },
  {
   "cell_type": "code",
   "execution_count": null,
   "metadata": {},
   "outputs": [],
   "source": [
    "def place(board,marker,position):\n",
    "    board[position]=marker\n",
    "    # marks the place"
   ]
  },
  {
   "cell_type": "code",
   "execution_count": null,
   "metadata": {},
   "outputs": [],
   "source": [
    "#place(test_board,\"X\",6)\n",
    "display_board(test_board)"
   ]
  },
  {
   "cell_type": "code",
   "execution_count": null,
   "metadata": {},
   "outputs": [],
   "source": [
    "def win_check(board,mark):\n",
    "    #win tic tac toe\n",
    "    #see all rows or columns or the 2 diagonals have same marker\n",
    "    return ((board[1]==mark and board[2]==mark and board[3]==mark) or\n",
    "           (board[4]==mark and board[5]==mark and board[6]==mark) or\n",
    "           (board[7]==mark and board[8]==mark and board[9]==mark) or\n",
    "           (board[1]==mark and board[4]==mark and board[7]==mark) or\n",
    "           (board[2]==mark and board[5]==mark and board[8]==mark) or\n",
    "           (board[3]==mark and board[6]==mark and board[9]==mark) or\n",
    "           (board[1]==mark and board[5]==mark and board[9]==mark) or\n",
    "           (board[3]==mark and board[5]==mark and board[7]==mark))"
   ]
  },
  {
   "cell_type": "code",
   "execution_count": null,
   "metadata": {},
   "outputs": [],
   "source": []
  },
  {
   "cell_type": "code",
   "execution_count": null,
   "metadata": {},
   "outputs": [],
   "source": [
    "import random\n",
    "\n",
    "def choose():\n",
    "    #to randomly select who goes first\n",
    "    flip=random.randint(0,1)\n",
    "    \n",
    "    if flip==0:\n",
    "        return(\"Player 1\")\n",
    "    else:\n",
    "        return(\"Player 2\")"
   ]
  },
  {
   "cell_type": "code",
   "execution_count": null,
   "metadata": {},
   "outputs": [],
   "source": [
    "def space(board,position):\n",
    "    #to check whether a position is free on board or not\n",
    "    return board[position]==\" \"\n",
    "    "
   ]
  },
  {
   "cell_type": "code",
   "execution_count": null,
   "metadata": {},
   "outputs": [],
   "source": [
    "def full(board):\n",
    "    #checks whether board is full or not\n",
    "    for i in range(1,10):\n",
    "        if space(board,i):\n",
    "            return False\n",
    "     #return true if board is full       \n",
    "        else:\n",
    "            return True       "
   ]
  },
  {
   "cell_type": "code",
   "execution_count": null,
   "metadata": {},
   "outputs": [],
   "source": [
    " def player_choice(board):\n",
    "        #a function to take position input from user and check whether this position is free or not\n",
    "        position=0\n",
    "        \n",
    "        while position not in [1,2,3,4,5,6,7,8,9] or not space(board,position):\n",
    "            position=int(input(\"Choose a position:(1-9) \"))\n",
    "        return position"
   ]
  },
  {
   "cell_type": "code",
   "execution_count": null,
   "metadata": {},
   "outputs": [],
   "source": [
    "def replay():\n",
    "    choice=input(\"Want to play again? Yes or No\")\n",
    "    \n",
    "    return choice.lower()==\"yes\""
   ]
  },
  {
   "cell_type": "code",
   "execution_count": null,
   "metadata": {},
   "outputs": [],
   "source": [
    "print(\"Welcome to tic tac toe\")\n",
    "\n",
    "while True:\n",
    "    # play the game\n",
    "    # set everything in order(board,whos first,choose marker XorO)\n",
    "    #game play: player 1 turn,player 2 turn\n",
    "    the_board=[\" \"]*10\n",
    "    player1marker,player2marker= player_input()\n",
    "    \n",
    "    turn=choose()\n",
    "    print(turn + \"will go first\")\n",
    "    \n",
    "    play_game=input(\"Are you ready to play?? y or n??\")\n",
    "    if play_game==\"y\":\n",
    "        game_on= True\n",
    "    else:\n",
    "        game_on=False\n",
    "    ## game play\n",
    "    \n",
    "    while game_on:\n",
    "        if turn==\"Player 1\":\n",
    "            #show the board\n",
    "            display_board(the_board)\n",
    "            #choose a position\n",
    "            position=player_choice(the_board)\n",
    "            \n",
    "            #place the marker at that position\n",
    "            \n",
    "            place(the_board,player1marker,position)\n",
    "            \n",
    "            #check if they won\n",
    "            if win_check(the_board,player1marker):\n",
    "                display_board(the_board)\n",
    "                print(\"Player 1 has won\")\n",
    "                game_on=False\n",
    "            else:\n",
    "                if full(the_board):\n",
    "                    display_board(the_board)\n",
    "                    print(\"Game is a tie\")\n",
    "                    game_on=False\n",
    "                else:\n",
    "                    turn= \"Player 2\"\n",
    "        else:\n",
    "            \n",
    "            #show the board\n",
    "            display_board(the_board)\n",
    "            #choose a position\n",
    "            position=player_choice(the_board)\n",
    "            \n",
    "            #place the marker at that position\n",
    "            \n",
    "            place(the_board,player2marker,position)\n",
    "            \n",
    "            #check if they won\n",
    "            if win_check(the_board,player2marker):\n",
    "                display_board(the_board)\n",
    "                print(\"Player 2 has won\")\n",
    "                game_on=False\n",
    "            else:\n",
    "                if full(the_board):\n",
    "                    display_board(the_board)\n",
    "                    print(\"Game is a tie\")\n",
    "                    game_on=False\n",
    "                else:\n",
    "                    turn= \"Player 1\"\n",
    "            \n",
    "                    \n",
    "                    \n",
    "                \n",
    "                \n",
    "            #or if ther is a tie\n",
    "            \n",
    "            #no tie no win?then next player's turn\n",
    "            \n",
    "            \n",
    "    \n",
    "    \n",
    "    \n",
    "    \n",
    "    if not replay():\n",
    "        break\n"
   ]
  },
  {
   "cell_type": "code",
   "execution_count": null,
   "metadata": {},
   "outputs": [],
   "source": []
  },
  {
   "cell_type": "code",
   "execution_count": null,
   "metadata": {},
   "outputs": [],
   "source": []
  },
  {
   "cell_type": "code",
   "execution_count": null,
   "metadata": {},
   "outputs": [],
   "source": []
  },
  {
   "cell_type": "code",
   "execution_count": null,
   "metadata": {},
   "outputs": [],
   "source": []
  },
  {
   "cell_type": "code",
   "execution_count": null,
   "metadata": {},
   "outputs": [],
   "source": []
  },
  {
   "cell_type": "code",
   "execution_count": null,
   "metadata": {},
   "outputs": [],
   "source": []
  },
  {
   "cell_type": "code",
   "execution_count": null,
   "metadata": {},
   "outputs": [],
   "source": []
  },
  {
   "cell_type": "code",
   "execution_count": null,
   "metadata": {},
   "outputs": [],
   "source": []
  },
  {
   "cell_type": "code",
   "execution_count": null,
   "metadata": {},
   "outputs": [],
   "source": []
  },
  {
   "cell_type": "code",
   "execution_count": null,
   "metadata": {},
   "outputs": [],
   "source": []
  },
  {
   "cell_type": "code",
   "execution_count": null,
   "metadata": {},
   "outputs": [],
   "source": []
  }
 ],
 "metadata": {
  "kernelspec": {
   "display_name": "Python 3",
   "language": "python",
   "name": "python3"
  },
  "language_info": {
   "codemirror_mode": {
    "name": "ipython",
    "version": 3
   },
   "file_extension": ".py",
   "mimetype": "text/x-python",
   "name": "python",
   "nbconvert_exporter": "python",
   "pygments_lexer": "ipython3",
   "version": "3.7.4"
  }
 },
 "nbformat": 4,
 "nbformat_minor": 2
}
